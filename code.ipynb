{
  "nbformat": 4,
  "nbformat_minor": 0,
  "metadata": {
    "kernelspec": {
      "display_name": "Python 3",
      "language": "python",
      "name": "python3"
    },
    "language_info": {
      "codemirror_mode": {
        "name": "ipython",
        "version": 3
      },
      "file_extension": ".py",
      "mimetype": "text/x-python",
      "name": "python",
      "nbconvert_exporter": "python",
      "pygments_lexer": "ipython3",
      "version": "3.7.4"
    },
    "colab": {
      "provenance": []
    },
    "widgets": {
      "application/vnd.jupyter.widget-state+json": {
        "0e5b53db899f46cb89deeb9602c22fb2": {
          "model_module": "@jupyter-widgets/controls",
          "model_name": "HBoxModel",
          "state": {
            "_view_name": "HBoxView",
            "_dom_classes": [],
            "_model_name": "HBoxModel",
            "_view_module": "@jupyter-widgets/controls",
            "_model_module_version": "1.5.0",
            "_view_count": null,
            "_view_module_version": "1.5.0",
            "box_style": "",
            "layout": "IPY_MODEL_9e2fad5ada1d4ee9ac00aa48d523eb02",
            "_model_module": "@jupyter-widgets/controls",
            "children": [
              "IPY_MODEL_4bcb28eeeaea40dfb4fc14faa04c889f",
              "IPY_MODEL_55822df77ae54281b5856924031f2b0a"
            ]
          },
          "model_module_version": "1.5.0"
        },
        "9e2fad5ada1d4ee9ac00aa48d523eb02": {
          "model_module": "@jupyter-widgets/base",
          "model_name": "LayoutModel",
          "state": {
            "_view_name": "LayoutView",
            "grid_template_rows": null,
            "right": null,
            "justify_content": null,
            "_view_module": "@jupyter-widgets/base",
            "overflow": null,
            "_model_module_version": "1.2.0",
            "_view_count": null,
            "flex_flow": null,
            "width": null,
            "min_width": null,
            "border": null,
            "align_items": null,
            "bottom": null,
            "_model_module": "@jupyter-widgets/base",
            "top": null,
            "grid_column": null,
            "overflow_y": null,
            "overflow_x": null,
            "grid_auto_flow": null,
            "grid_area": null,
            "grid_template_columns": null,
            "flex": null,
            "_model_name": "LayoutModel",
            "justify_items": null,
            "grid_row": null,
            "max_height": null,
            "align_content": null,
            "visibility": null,
            "align_self": null,
            "height": null,
            "min_height": null,
            "padding": null,
            "grid_auto_rows": null,
            "grid_gap": null,
            "max_width": null,
            "order": null,
            "_view_module_version": "1.2.0",
            "grid_template_areas": null,
            "object_position": null,
            "object_fit": null,
            "grid_auto_columns": null,
            "margin": null,
            "display": null,
            "left": null
          },
          "model_module_version": "1.2.0"
        },
        "4bcb28eeeaea40dfb4fc14faa04c889f": {
          "model_module": "@jupyter-widgets/controls",
          "model_name": "FloatProgressModel",
          "state": {
            "_view_name": "ProgressView",
            "style": "IPY_MODEL_fdcf0965d0c14183a7af1ff0abf359e1",
            "_dom_classes": [],
            "description": "100%",
            "_model_name": "FloatProgressModel",
            "bar_style": "success",
            "max": 5,
            "_view_module": "@jupyter-widgets/controls",
            "_model_module_version": "1.5.0",
            "value": 5,
            "_view_count": null,
            "_view_module_version": "1.5.0",
            "orientation": "horizontal",
            "min": 0,
            "description_tooltip": null,
            "_model_module": "@jupyter-widgets/controls",
            "layout": "IPY_MODEL_040c2e113f3443898bc3885a70cc4711"
          },
          "model_module_version": "1.5.0"
        },
        "55822df77ae54281b5856924031f2b0a": {
          "model_module": "@jupyter-widgets/controls",
          "model_name": "HTMLModel",
          "state": {
            "_view_name": "HTMLView",
            "style": "IPY_MODEL_7fa695aff89d497ea04293c7506b90b7",
            "_dom_classes": [],
            "description": "",
            "_model_name": "HTMLModel",
            "placeholder": "​",
            "_view_module": "@jupyter-widgets/controls",
            "_model_module_version": "1.5.0",
            "value": " 5/5 [05:42&lt;00:00, 68.49s/it]",
            "_view_count": null,
            "_view_module_version": "1.5.0",
            "description_tooltip": null,
            "_model_module": "@jupyter-widgets/controls",
            "layout": "IPY_MODEL_a805940b748a43d687dc0a23b7f1c184"
          },
          "model_module_version": "1.5.0"
        },
        "fdcf0965d0c14183a7af1ff0abf359e1": {
          "model_module": "@jupyter-widgets/controls",
          "model_name": "ProgressStyleModel",
          "state": {
            "_view_name": "StyleView",
            "_model_name": "ProgressStyleModel",
            "description_width": "initial",
            "_view_module": "@jupyter-widgets/base",
            "_model_module_version": "1.5.0",
            "_view_count": null,
            "_view_module_version": "1.2.0",
            "bar_color": null,
            "_model_module": "@jupyter-widgets/controls"
          },
          "model_module_version": "1.5.0"
        },
        "040c2e113f3443898bc3885a70cc4711": {
          "model_module": "@jupyter-widgets/base",
          "model_name": "LayoutModel",
          "state": {
            "_view_name": "LayoutView",
            "grid_template_rows": null,
            "right": null,
            "justify_content": null,
            "_view_module": "@jupyter-widgets/base",
            "overflow": null,
            "_model_module_version": "1.2.0",
            "_view_count": null,
            "flex_flow": null,
            "width": null,
            "min_width": null,
            "border": null,
            "align_items": null,
            "bottom": null,
            "_model_module": "@jupyter-widgets/base",
            "top": null,
            "grid_column": null,
            "overflow_y": null,
            "overflow_x": null,
            "grid_auto_flow": null,
            "grid_area": null,
            "grid_template_columns": null,
            "flex": null,
            "_model_name": "LayoutModel",
            "justify_items": null,
            "grid_row": null,
            "max_height": null,
            "align_content": null,
            "visibility": null,
            "align_self": null,
            "height": null,
            "min_height": null,
            "padding": null,
            "grid_auto_rows": null,
            "grid_gap": null,
            "max_width": null,
            "order": null,
            "_view_module_version": "1.2.0",
            "grid_template_areas": null,
            "object_position": null,
            "object_fit": null,
            "grid_auto_columns": null,
            "margin": null,
            "display": null,
            "left": null
          },
          "model_module_version": "1.2.0"
        },
        "7fa695aff89d497ea04293c7506b90b7": {
          "model_module": "@jupyter-widgets/controls",
          "model_name": "DescriptionStyleModel",
          "state": {
            "_view_name": "StyleView",
            "_model_name": "DescriptionStyleModel",
            "description_width": "",
            "_view_module": "@jupyter-widgets/base",
            "_model_module_version": "1.5.0",
            "_view_count": null,
            "_view_module_version": "1.2.0",
            "_model_module": "@jupyter-widgets/controls"
          },
          "model_module_version": "1.5.0"
        },
        "a805940b748a43d687dc0a23b7f1c184": {
          "model_module": "@jupyter-widgets/base",
          "model_name": "LayoutModel",
          "state": {
            "_view_name": "LayoutView",
            "grid_template_rows": null,
            "right": null,
            "justify_content": null,
            "_view_module": "@jupyter-widgets/base",
            "overflow": null,
            "_model_module_version": "1.2.0",
            "_view_count": null,
            "flex_flow": null,
            "width": null,
            "min_width": null,
            "border": null,
            "align_items": null,
            "bottom": null,
            "_model_module": "@jupyter-widgets/base",
            "top": null,
            "grid_column": null,
            "overflow_y": null,
            "overflow_x": null,
            "grid_auto_flow": null,
            "grid_area": null,
            "grid_template_columns": null,
            "flex": null,
            "_model_name": "LayoutModel",
            "justify_items": null,
            "grid_row": null,
            "max_height": null,
            "align_content": null,
            "visibility": null,
            "align_self": null,
            "height": null,
            "min_height": null,
            "padding": null,
            "grid_auto_rows": null,
            "grid_gap": null,
            "max_width": null,
            "order": null,
            "_view_module_version": "1.2.0",
            "grid_template_areas": null,
            "object_position": null,
            "object_fit": null,
            "grid_auto_columns": null,
            "margin": null,
            "display": null,
            "left": null
          },
          "model_module_version": "1.2.0"
        }
      }
    }
  },
  "cells": [
    {
      "cell_type": "markdown",
      "metadata": {
        "id": "mqz1_eHZCKJ4"
      },
      "source": [
        "## Prediction Of Covid Cases Using FbProphet"
      ]
    },
    {
      "cell_type": "code",
      "metadata": {
        "colab": {
          "base_uri": "https://localhost:8080/"
        },
        "id": "9BAE2MA2ASZ2",
        "outputId": "f0835aab-76fa-41ad-8773-e394886b440f"
      },
      "source": [
        "!pip install pystan\n",
        "!pip install fbprophet"
      ],
      "execution_count": null,
      "outputs": [
        {
          "output_type": "stream",
          "text": [
            "Requirement already satisfied: pystan in /usr/local/lib/python3.7/dist-packages (2.19.1.1)\n",
            "Requirement already satisfied: Cython!=0.25.1,>=0.22 in /usr/local/lib/python3.7/dist-packages (from pystan) (0.29.23)\n",
            "Requirement already satisfied: numpy>=1.7 in /usr/local/lib/python3.7/dist-packages (from pystan) (1.19.5)\n",
            "Requirement already satisfied: fbprophet in /usr/local/lib/python3.7/dist-packages (0.7.1)\n",
            "Requirement already satisfied: Cython>=0.22 in /usr/local/lib/python3.7/dist-packages (from fbprophet) (0.29.23)\n",
            "Requirement already satisfied: cmdstanpy==0.9.5 in /usr/local/lib/python3.7/dist-packages (from fbprophet) (0.9.5)\n",
            "Requirement already satisfied: pystan>=2.14 in /usr/local/lib/python3.7/dist-packages (from fbprophet) (2.19.1.1)\n",
            "Requirement already satisfied: numpy>=1.15.4 in /usr/local/lib/python3.7/dist-packages (from fbprophet) (1.19.5)\n",
            "Requirement already satisfied: pandas>=1.0.4 in /usr/local/lib/python3.7/dist-packages (from fbprophet) (1.1.5)\n",
            "Requirement already satisfied: matplotlib>=2.0.0 in /usr/local/lib/python3.7/dist-packages (from fbprophet) (3.2.2)\n",
            "Requirement already satisfied: LunarCalendar>=0.0.9 in /usr/local/lib/python3.7/dist-packages (from fbprophet) (0.0.9)\n",
            "Requirement already satisfied: convertdate>=2.1.2 in /usr/local/lib/python3.7/dist-packages (from fbprophet) (2.3.2)\n",
            "Requirement already satisfied: holidays>=0.10.2 in /usr/local/lib/python3.7/dist-packages (from fbprophet) (0.10.5.2)\n",
            "Requirement already satisfied: setuptools-git>=1.2 in /usr/local/lib/python3.7/dist-packages (from fbprophet) (1.2)\n",
            "Requirement already satisfied: python-dateutil>=2.8.0 in /usr/local/lib/python3.7/dist-packages (from fbprophet) (2.8.1)\n",
            "Requirement already satisfied: tqdm>=4.36.1 in /usr/local/lib/python3.7/dist-packages (from fbprophet) (4.41.1)\n",
            "Requirement already satisfied: pymeeus<=1,>=0.3.13 in /usr/local/lib/python3.7/dist-packages (from convertdate>=2.1.2->fbprophet) (0.5.11)\n",
            "Requirement already satisfied: pytz>=2014.10 in /usr/local/lib/python3.7/dist-packages (from convertdate>=2.1.2->fbprophet) (2018.9)\n",
            "Requirement already satisfied: hijri-converter in /usr/local/lib/python3.7/dist-packages (from holidays>=0.10.2->fbprophet) (2.1.3)\n",
            "Requirement already satisfied: korean-lunar-calendar in /usr/local/lib/python3.7/dist-packages (from holidays>=0.10.2->fbprophet) (0.2.1)\n",
            "Requirement already satisfied: six in /usr/local/lib/python3.7/dist-packages (from holidays>=0.10.2->fbprophet) (1.15.0)\n",
            "Requirement already satisfied: ephem>=3.7.5.3 in /usr/local/lib/python3.7/dist-packages (from LunarCalendar>=0.0.9->fbprophet) (4.0.0.2)\n",
            "Requirement already satisfied: cycler>=0.10 in /usr/local/lib/python3.7/dist-packages (from matplotlib>=2.0.0->fbprophet) (0.10.0)\n",
            "Requirement already satisfied: pyparsing!=2.0.4,!=2.1.2,!=2.1.6,>=2.0.1 in /usr/local/lib/python3.7/dist-packages (from matplotlib>=2.0.0->fbprophet) (2.4.7)\n",
            "Requirement already satisfied: kiwisolver>=1.0.1 in /usr/local/lib/python3.7/dist-packages (from matplotlib>=2.0.0->fbprophet) (1.3.1)\n"
          ],
          "name": "stdout"
        }
      ]
    },
    {
      "cell_type": "code",
      "metadata": {
        "id": "omkgOBFZASZ3"
      },
      "source": [
        "import fbprophet"
      ],
      "execution_count": null,
      "outputs": []
    },
    {
      "cell_type": "code",
      "metadata": {
        "id": "kjMy_FNuASZ4"
      },
      "source": [
        "from fbprophet import Prophet"
      ],
      "execution_count": null,
      "outputs": []
    },
    {
      "cell_type": "code",
      "metadata": {
        "id": "EMDIWfn2ASZ5"
      },
      "source": [
        "import pandas as pd"
      ],
      "execution_count": null,
      "outputs": []
    },
    {
      "cell_type": "code",
      "metadata": {
        "id": "4gxpJ0-ZASZ5"
      },
      "source": [
        "df=pd.read_csv('/content/covid_19_clean_complete.csv')"
      ],
      "execution_count": null,
      "outputs": []
    },
    {
      "cell_type": "code",
      "metadata": {
        "colab": {
          "base_uri": "https://localhost:8080/",
          "height": 195
        },
        "id": "Ojzf09zaASZ6",
        "outputId": "f3591f1c-a94f-45c1-fc76-6ac8d218dd7c"
      },
      "source": [
        "df.head()"
      ],
      "execution_count": null,
      "outputs": [
        {
          "output_type": "execute_result",
          "data": {
            "text/html": [
              "<div>\n",
              "<style scoped>\n",
              "    .dataframe tbody tr th:only-of-type {\n",
              "        vertical-align: middle;\n",
              "    }\n",
              "\n",
              "    .dataframe tbody tr th {\n",
              "        vertical-align: top;\n",
              "    }\n",
              "\n",
              "    .dataframe thead th {\n",
              "        text-align: right;\n",
              "    }\n",
              "</style>\n",
              "<table border=\"1\" class=\"dataframe\">\n",
              "  <thead>\n",
              "    <tr style=\"text-align: right;\">\n",
              "      <th></th>\n",
              "      <th>Province/State</th>\n",
              "      <th>Country/Region</th>\n",
              "      <th>Lat</th>\n",
              "      <th>Long</th>\n",
              "      <th>Date</th>\n",
              "      <th>Confirmed</th>\n",
              "      <th>Deaths</th>\n",
              "      <th>Recovered</th>\n",
              "      <th>Active</th>\n",
              "      <th>WHO Region</th>\n",
              "    </tr>\n",
              "  </thead>\n",
              "  <tbody>\n",
              "    <tr>\n",
              "      <th>0</th>\n",
              "      <td>NaN</td>\n",
              "      <td>Afghanistan</td>\n",
              "      <td>33.93911</td>\n",
              "      <td>67.709953</td>\n",
              "      <td>2020-01-22</td>\n",
              "      <td>0</td>\n",
              "      <td>0</td>\n",
              "      <td>0</td>\n",
              "      <td>0</td>\n",
              "      <td>Eastern Mediterranean</td>\n",
              "    </tr>\n",
              "    <tr>\n",
              "      <th>1</th>\n",
              "      <td>NaN</td>\n",
              "      <td>Albania</td>\n",
              "      <td>41.15330</td>\n",
              "      <td>20.168300</td>\n",
              "      <td>2020-01-22</td>\n",
              "      <td>0</td>\n",
              "      <td>0</td>\n",
              "      <td>0</td>\n",
              "      <td>0</td>\n",
              "      <td>Europe</td>\n",
              "    </tr>\n",
              "    <tr>\n",
              "      <th>2</th>\n",
              "      <td>NaN</td>\n",
              "      <td>Algeria</td>\n",
              "      <td>28.03390</td>\n",
              "      <td>1.659600</td>\n",
              "      <td>2020-01-22</td>\n",
              "      <td>0</td>\n",
              "      <td>0</td>\n",
              "      <td>0</td>\n",
              "      <td>0</td>\n",
              "      <td>Africa</td>\n",
              "    </tr>\n",
              "    <tr>\n",
              "      <th>3</th>\n",
              "      <td>NaN</td>\n",
              "      <td>Andorra</td>\n",
              "      <td>42.50630</td>\n",
              "      <td>1.521800</td>\n",
              "      <td>2020-01-22</td>\n",
              "      <td>0</td>\n",
              "      <td>0</td>\n",
              "      <td>0</td>\n",
              "      <td>0</td>\n",
              "      <td>Europe</td>\n",
              "    </tr>\n",
              "    <tr>\n",
              "      <th>4</th>\n",
              "      <td>NaN</td>\n",
              "      <td>Angola</td>\n",
              "      <td>-11.20270</td>\n",
              "      <td>17.873900</td>\n",
              "      <td>2020-01-22</td>\n",
              "      <td>0</td>\n",
              "      <td>0</td>\n",
              "      <td>0</td>\n",
              "      <td>0</td>\n",
              "      <td>Africa</td>\n",
              "    </tr>\n",
              "  </tbody>\n",
              "</table>\n",
              "</div>"
            ],
            "text/plain": [
              "  Province/State Country/Region  ...  Active             WHO Region\n",
              "0            NaN    Afghanistan  ...       0  Eastern Mediterranean\n",
              "1            NaN        Albania  ...       0                 Europe\n",
              "2            NaN        Algeria  ...       0                 Africa\n",
              "3            NaN        Andorra  ...       0                 Europe\n",
              "4            NaN         Angola  ...       0                 Africa\n",
              "\n",
              "[5 rows x 10 columns]"
            ]
          },
          "metadata": {
            "tags": []
          },
          "execution_count": 8
        }
      ]
    },
    {
      "cell_type": "code",
      "metadata": {
        "id": "0vVNGnqpCi8Y"
      },
      "source": [
        "import matplotlib.pyplot as plt\n",
        "import seaborn as sns"
      ],
      "execution_count": null,
      "outputs": []
    },
    {
      "cell_type": "markdown",
      "metadata": {
        "id": "OIyAwwkhE1KB"
      },
      "source": [
        "### Top 5 Countries ranked by Covid Deaths"
      ]
    },
    {
      "cell_type": "code",
      "metadata": {
        "colab": {
          "base_uri": "https://localhost:8080/",
          "height": 307
        },
        "id": "cToFMfQxDoJO",
        "outputId": "8099539a-112d-4511-8daf-717c788a806a"
      },
      "source": [
        "total_deaths=df.groupby(['Country/Region'])['Deaths'].sum().reset_index()\n",
        "total_deaths.sort_values('Deaths',ascending=False,inplace=True)\n",
        "total_deaths = total_deaths.head()\n",
        "sns.barplot(x=total_deaths['Country/Region'],y=total_deaths['Deaths'])"
      ],
      "execution_count": null,
      "outputs": [
        {
          "output_type": "execute_result",
          "data": {
            "text/plain": [
              "<matplotlib.axes._subplots.AxesSubplot at 0x7f300b5f90d0>"
            ]
          },
          "metadata": {
            "tags": []
          },
          "execution_count": 75
        },
        {
          "output_type": "display_data",
          "data": {
            "image/png": "[encoded data removed]",
            "text/plain": [
              "<Figure size 432x288 with 1 Axes>"
            ]
          },
          "metadata": {
            "tags": [],
            "needs_background": "light"
          }
        }
      ]
    },
    {
      "cell_type": "markdown",
      "metadata": {
        "id": "7XzIKjq0FA4p"
      },
      "source": [
        "## Top 5 Countries ranked by Recovered Covid Cases"
      ]
    },
    {
      "cell_type": "code",
      "metadata": {
        "colab": {
          "base_uri": "https://localhost:8080/",
          "height": 307
        },
        "id": "vzSoJoJKFLMd",
        "outputId": "a54971e5-cb6d-4df3-f7d0-ee990dd57370"
      },
      "source": [
        "total_Recovered=df.groupby(['Country/Region'])['Recovered'].sum().reset_index()\n",
        "total_Recovered.sort_values('Recovered',ascending=False,inplace=True)\n",
        "total_Recovered = total_Recovered.head()\n",
        "sns.barplot(x=total_Recovered['Country/Region'],y=total_Recovered['Recovered'])"
      ],
      "execution_count": null,
      "outputs": [
        {
          "output_type": "execute_result",
          "data": {
            "text/plain": [
              "<matplotlib.axes._subplots.AxesSubplot at 0x7f300b4721d0>"
            ]
          },
          "metadata": {
            "tags": []
          },
          "execution_count": 76
        },
        {
          "output_type": "display_data",
          "data": {
            "image/png": "[encoded data removed]",
            "text/plain": [
              "<Figure size 432x288 with 1 Axes>"
            ]
          },
          "metadata": {
            "tags": [],
            "needs_background": "light"
          }
        }
      ]
    },
    {
      "cell_type": "code",
      "metadata": {
        "colab": {
          "base_uri": "https://localhost:8080/"
        },
        "id": "tBQOYEL3ASZ6",
        "outputId": "2d251f33-288b-4b7c-f4be-c7f774b8d4c5"
      },
      "source": [
        "df.shape"
      ],
      "execution_count": null,
      "outputs": [
        {
          "output_type": "execute_result",
          "data": {
            "text/plain": [
              "(49068, 10)"
            ]
          },
          "metadata": {
            "tags": []
          },
          "execution_count": 9
        }
      ]
    },
    {
      "cell_type": "code",
      "metadata": {
        "colab": {
          "base_uri": "https://localhost:8080/"
        },
        "id": "yObptQ81ASZ6",
        "outputId": "f3a69782-9fdb-41ef-a59c-f47a124fde6e"
      },
      "source": [
        "df.dtypes"
      ],
      "execution_count": null,
      "outputs": [
        {
          "output_type": "execute_result",
          "data": {
            "text/plain": [
              "Province/State     object\n",
              "Country/Region     object\n",
              "Lat               float64\n",
              "Long              float64\n",
              "Date               object\n",
              "Confirmed           int64\n",
              "Deaths              int64\n",
              "Recovered           int64\n",
              "Active              int64\n",
              "WHO Region         object\n",
              "dtype: object"
            ]
          },
          "metadata": {
            "tags": []
          },
          "execution_count": 10
        }
      ]
    },
    {
      "cell_type": "code",
      "metadata": {
        "id": "jC6mR_wgASZ7"
      },
      "source": [
        "df['Date']=pd.to_datetime(df['Date'])"
      ],
      "execution_count": null,
      "outputs": []
    },
    {
      "cell_type": "code",
      "metadata": {
        "colab": {
          "base_uri": "https://localhost:8080/"
        },
        "id": "HJVnqF7oASZ7",
        "outputId": "ea9add3f-ae15-4da1-e261-004e829ff55d"
      },
      "source": [
        "df.dtypes"
      ],
      "execution_count": null,
      "outputs": [
        {
          "output_type": "execute_result",
          "data": {
            "text/plain": [
              "Province/State            object\n",
              "Country/Region            object\n",
              "Lat                      float64\n",
              "Long                     float64\n",
              "Date              datetime64[ns]\n",
              "Confirmed                  int64\n",
              "Deaths                     int64\n",
              "Recovered                  int64\n",
              "Active                     int64\n",
              "WHO Region                object\n",
              "dtype: object"
            ]
          },
          "metadata": {
            "tags": []
          },
          "execution_count": 12
        }
      ]
    },
    {
      "cell_type": "code",
      "metadata": {
        "colab": {
          "base_uri": "https://localhost:8080/"
        },
        "id": "GP7-mUJqASZ7",
        "outputId": "7806fe10-f8e3-4d34-9394-0f934b4a364b"
      },
      "source": [
        "df.isnull().sum()"
      ],
      "execution_count": null,
      "outputs": [
        {
          "output_type": "execute_result",
          "data": {
            "text/plain": [
              "Province/State    34404\n",
              "Country/Region        0\n",
              "Lat                   0\n",
              "Long                  0\n",
              "Date                  0\n",
              "Confirmed             0\n",
              "Deaths                0\n",
              "Recovered             0\n",
              "Active                0\n",
              "WHO Region            0\n",
              "dtype: int64"
            ]
          },
          "metadata": {
            "tags": []
          },
          "execution_count": 13
        }
      ]
    },
    {
      "cell_type": "code",
      "metadata": {
        "colab": {
          "base_uri": "https://localhost:8080/"
        },
        "id": "KIjBQ1JkASZ7",
        "outputId": "cbfb9474-2610-4198-9d33-45fd14c655d0"
      },
      "source": [
        "df['Date'].nunique()"
      ],
      "execution_count": null,
      "outputs": [
        {
          "output_type": "execute_result",
          "data": {
            "text/plain": [
              "188"
            ]
          },
          "metadata": {
            "tags": []
          },
          "execution_count": 14
        }
      ]
    },
    {
      "cell_type": "code",
      "metadata": {
        "colab": {
          "base_uri": "https://localhost:8080/"
        },
        "id": "Ec4p5ojGASZ8",
        "outputId": "32dff2df-80de-4b2d-bff3-418c0009a4e4"
      },
      "source": [
        "total=df.groupby(['Date'])['Confirmed','Deaths','Recovered','Active'].sum().reset_index()"
      ],
      "execution_count": null,
      "outputs": [
        {
          "output_type": "stream",
          "text": [
            "/usr/local/lib/python3.7/dist-packages/ipykernel_launcher.py:1: FutureWarning:\n",
            "\n",
            "Indexing with multiple keys (implicitly converted to a tuple of keys) will be deprecated, use a list instead.\n",
            "\n"
          ],
          "name": "stderr"
        }
      ]
    },
    {
      "cell_type": "code",
      "metadata": {
        "colab": {
          "base_uri": "https://localhost:8080/",
          "height": 195
        },
        "id": "LNdbRjDoASZ8",
        "outputId": "a57200a9-e3d5-4210-e91b-29fadb54ce33"
      },
      "source": [
        "total.head()"
      ],
      "execution_count": null,
      "outputs": [
        {
          "output_type": "execute_result",
          "data": {
            "text/html": [
              "<div>\n",
              "<style scoped>\n",
              "    .dataframe tbody tr th:only-of-type {\n",
              "        vertical-align: middle;\n",
              "    }\n",
              "\n",
              "    .dataframe tbody tr th {\n",
              "        vertical-align: top;\n",
              "    }\n",
              "\n",
              "    .dataframe thead th {\n",
              "        text-align: right;\n",
              "    }\n",
              "</style>\n",
              "<table border=\"1\" class=\"dataframe\">\n",
              "  <thead>\n",
              "    <tr style=\"text-align: right;\">\n",
              "      <th></th>\n",
              "      <th>Date</th>\n",
              "      <th>Confirmed</th>\n",
              "      <th>Deaths</th>\n",
              "      <th>Recovered</th>\n",
              "      <th>Active</th>\n",
              "    </tr>\n",
              "  </thead>\n",
              "  <tbody>\n",
              "    <tr>\n",
              "      <th>0</th>\n",
              "      <td>2020-01-22</td>\n",
              "      <td>555</td>\n",
              "      <td>17</td>\n",
              "      <td>28</td>\n",
              "      <td>510</td>\n",
              "    </tr>\n",
              "    <tr>\n",
              "      <th>1</th>\n",
              "      <td>2020-01-23</td>\n",
              "      <td>654</td>\n",
              "      <td>18</td>\n",
              "      <td>30</td>\n",
              "      <td>606</td>\n",
              "    </tr>\n",
              "    <tr>\n",
              "      <th>2</th>\n",
              "      <td>2020-01-24</td>\n",
              "      <td>941</td>\n",
              "      <td>26</td>\n",
              "      <td>36</td>\n",
              "      <td>879</td>\n",
              "    </tr>\n",
              "    <tr>\n",
              "      <th>3</th>\n",
              "      <td>2020-01-25</td>\n",
              "      <td>1434</td>\n",
              "      <td>42</td>\n",
              "      <td>39</td>\n",
              "      <td>1353</td>\n",
              "    </tr>\n",
              "    <tr>\n",
              "      <th>4</th>\n",
              "      <td>2020-01-26</td>\n",
              "      <td>2118</td>\n",
              "      <td>56</td>\n",
              "      <td>52</td>\n",
              "      <td>2010</td>\n",
              "    </tr>\n",
              "  </tbody>\n",
              "</table>\n",
              "</div>"
            ],
            "text/plain": [
              "        Date  Confirmed  Deaths  Recovered  Active\n",
              "0 2020-01-22        555      17         28     510\n",
              "1 2020-01-23        654      18         30     606\n",
              "2 2020-01-24        941      26         36     879\n",
              "3 2020-01-25       1434      42         39    1353\n",
              "4 2020-01-26       2118      56         52    2010"
            ]
          },
          "metadata": {
            "tags": []
          },
          "execution_count": 16
        }
      ]
    },
    {
      "cell_type": "code",
      "metadata": {
        "id": "-pvQAXr9ASZ8"
      },
      "source": [
        "df_prophet=total.rename(columns={'Date':'ds','Confirmed':'y'})"
      ],
      "execution_count": null,
      "outputs": []
    },
    {
      "cell_type": "code",
      "metadata": {
        "colab": {
          "base_uri": "https://localhost:8080/",
          "height": 195
        },
        "id": "ea7zDmetASZ9",
        "outputId": "2230991a-177c-4153-cae0-db867d482721"
      },
      "source": [
        "df_prophet.head()"
      ],
      "execution_count": null,
      "outputs": [
        {
          "output_type": "execute_result",
          "data": {
            "text/html": [
              "<div>\n",
              "<style scoped>\n",
              "    .dataframe tbody tr th:only-of-type {\n",
              "        vertical-align: middle;\n",
              "    }\n",
              "\n",
              "    .dataframe tbody tr th {\n",
              "        vertical-align: top;\n",
              "    }\n",
              "\n",
              "    .dataframe thead th {\n",
              "        text-align: right;\n",
              "    }\n",
              "</style>\n",
              "<table border=\"1\" class=\"dataframe\">\n",
              "  <thead>\n",
              "    <tr style=\"text-align: right;\">\n",
              "      <th></th>\n",
              "      <th>ds</th>\n",
              "      <th>y</th>\n",
              "      <th>Deaths</th>\n",
              "      <th>Recovered</th>\n",
              "      <th>Active</th>\n",
              "    </tr>\n",
              "  </thead>\n",
              "  <tbody>\n",
              "    <tr>\n",
              "      <th>0</th>\n",
              "      <td>2020-01-22</td>\n",
              "      <td>555</td>\n",
              "      <td>17</td>\n",
              "      <td>28</td>\n",
              "      <td>510</td>\n",
              "    </tr>\n",
              "    <tr>\n",
              "      <th>1</th>\n",
              "      <td>2020-01-23</td>\n",
              "      <td>654</td>\n",
              "      <td>18</td>\n",
              "      <td>30</td>\n",
              "      <td>606</td>\n",
              "    </tr>\n",
              "    <tr>\n",
              "      <th>2</th>\n",
              "      <td>2020-01-24</td>\n",
              "      <td>941</td>\n",
              "      <td>26</td>\n",
              "      <td>36</td>\n",
              "      <td>879</td>\n",
              "    </tr>\n",
              "    <tr>\n",
              "      <th>3</th>\n",
              "      <td>2020-01-25</td>\n",
              "      <td>1434</td>\n",
              "      <td>42</td>\n",
              "      <td>39</td>\n",
              "      <td>1353</td>\n",
              "    </tr>\n",
              "    <tr>\n",
              "      <th>4</th>\n",
              "      <td>2020-01-26</td>\n",
              "      <td>2118</td>\n",
              "      <td>56</td>\n",
              "      <td>52</td>\n",
              "      <td>2010</td>\n",
              "    </tr>\n",
              "  </tbody>\n",
              "</table>\n",
              "</div>"
            ],
            "text/plain": [
              "          ds     y  Deaths  Recovered  Active\n",
              "0 2020-01-22   555      17         28     510\n",
              "1 2020-01-23   654      18         30     606\n",
              "2 2020-01-24   941      26         36     879\n",
              "3 2020-01-25  1434      42         39    1353\n",
              "4 2020-01-26  2118      56         52    2010"
            ]
          },
          "metadata": {
            "tags": []
          },
          "execution_count": 18
        }
      ]
    },
    {
      "cell_type": "code",
      "metadata": {
        "id": "r4mnPVlVASZ9"
      },
      "source": [
        "m=Prophet(daily_seasonality=True,yearly_seasonality=True)"
      ],
      "execution_count": null,
      "outputs": []
    },
    {
      "cell_type": "code",
      "metadata": {
        "id": "4W7iSvcUASZ9"
      },
      "source": [
        "model=m.fit(df_prophet)"
      ],
      "execution_count": null,
      "outputs": []
    },
    {
      "cell_type": "code",
      "metadata": {
        "colab": {
          "base_uri": "https://localhost:8080/"
        },
        "id": "DUY0h1nXASZ-",
        "outputId": "c1612d05-5e17-4bed-c517-98977bb90a6f"
      },
      "source": [
        "model.seasonalities"
      ],
      "execution_count": null,
      "outputs": [
        {
          "output_type": "execute_result",
          "data": {
            "text/plain": [
              "OrderedDict([('yearly',\n",
              "              {'condition_name': None,\n",
              "               'fourier_order': 10,\n",
              "               'mode': 'additive',\n",
              "               'period': 365.25,\n",
              "               'prior_scale': 10.0}),\n",
              "             ('weekly',\n",
              "              {'condition_name': None,\n",
              "               'fourier_order': 3,\n",
              "               'mode': 'additive',\n",
              "               'period': 7,\n",
              "               'prior_scale': 10.0}),\n",
              "             ('daily',\n",
              "              {'condition_name': None,\n",
              "               'fourier_order': 4,\n",
              "               'mode': 'additive',\n",
              "               'period': 1,\n",
              "               'prior_scale': 10.0})])"
            ]
          },
          "metadata": {
            "tags": []
          },
          "execution_count": 30
        }
      ]
    },
    {
      "cell_type": "code",
      "metadata": {
        "id": "gJ57XxTeASZ-"
      },
      "source": [
        "### ### now I am going to do forecasting so to do forecasting I need some Future Days\n",
        "future_global=model.make_future_dataframe(periods=30,freq='D')"
      ],
      "execution_count": null,
      "outputs": []
    },
    {
      "cell_type": "code",
      "metadata": {
        "colab": {
          "base_uri": "https://localhost:8080/",
          "height": 195
        },
        "id": "unlVmzpNASZ-",
        "outputId": "d695ef2f-3b8c-436c-9e45-a3d7f2424146"
      },
      "source": [
        "future_global.head()"
      ],
      "execution_count": null,
      "outputs": [
        {
          "output_type": "execute_result",
          "data": {
            "text/html": [
              "<div>\n",
              "<style scoped>\n",
              "    .dataframe tbody tr th:only-of-type {\n",
              "        vertical-align: middle;\n",
              "    }\n",
              "\n",
              "    .dataframe tbody tr th {\n",
              "        vertical-align: top;\n",
              "    }\n",
              "\n",
              "    .dataframe thead th {\n",
              "        text-align: right;\n",
              "    }\n",
              "</style>\n",
              "<table border=\"1\" class=\"dataframe\">\n",
              "  <thead>\n",
              "    <tr style=\"text-align: right;\">\n",
              "      <th></th>\n",
              "      <th>ds</th>\n",
              "    </tr>\n",
              "  </thead>\n",
              "  <tbody>\n",
              "    <tr>\n",
              "      <th>0</th>\n",
              "      <td>2020-01-22</td>\n",
              "    </tr>\n",
              "    <tr>\n",
              "      <th>1</th>\n",
              "      <td>2020-01-23</td>\n",
              "    </tr>\n",
              "    <tr>\n",
              "      <th>2</th>\n",
              "      <td>2020-01-24</td>\n",
              "    </tr>\n",
              "    <tr>\n",
              "      <th>3</th>\n",
              "      <td>2020-01-25</td>\n",
              "    </tr>\n",
              "    <tr>\n",
              "      <th>4</th>\n",
              "      <td>2020-01-26</td>\n",
              "    </tr>\n",
              "  </tbody>\n",
              "</table>\n",
              "</div>"
            ],
            "text/plain": [
              "          ds\n",
              "0 2020-01-22\n",
              "1 2020-01-23\n",
              "2 2020-01-24\n",
              "3 2020-01-25\n",
              "4 2020-01-26"
            ]
          },
          "metadata": {
            "tags": []
          },
          "execution_count": 32
        }
      ]
    },
    {
      "cell_type": "code",
      "metadata": {
        "colab": {
          "base_uri": "https://localhost:8080/"
        },
        "id": "aylZz6PGASZ-",
        "outputId": "1a9667b0-3d98-4dd0-a67c-ae3df37b78a6"
      },
      "source": [
        "df_prophet.shape"
      ],
      "execution_count": null,
      "outputs": [
        {
          "output_type": "execute_result",
          "data": {
            "text/plain": [
              "(188, 5)"
            ]
          },
          "metadata": {
            "tags": []
          },
          "execution_count": 33
        }
      ]
    },
    {
      "cell_type": "code",
      "metadata": {
        "colab": {
          "base_uri": "https://localhost:8080/"
        },
        "id": "Bvs3qoRSASZ_",
        "outputId": "d5147e2f-bf75-44b5-d08d-fc377109d049"
      },
      "source": [
        "future_global.shape"
      ],
      "execution_count": null,
      "outputs": [
        {
          "output_type": "execute_result",
          "data": {
            "text/plain": [
              "(218, 1)"
            ]
          },
          "metadata": {
            "tags": []
          },
          "execution_count": 34
        }
      ]
    },
    {
      "cell_type": "code",
      "metadata": {
        "colab": {
          "base_uri": "https://localhost:8080/"
        },
        "id": "nKMqGGbEASZ_",
        "outputId": "d883c38a-b0f6-4daa-cc15-2121b595b6ca"
      },
      "source": [
        "df_prophet['ds'].tail()"
      ],
      "execution_count": null,
      "outputs": [
        {
          "output_type": "execute_result",
          "data": {
            "text/plain": [
              "183   2020-07-23\n",
              "184   2020-07-24\n",
              "185   2020-07-25\n",
              "186   2020-07-26\n",
              "187   2020-07-27\n",
              "Name: ds, dtype: datetime64[ns]"
            ]
          },
          "metadata": {
            "tags": []
          },
          "execution_count": 35
        }
      ]
    },
    {
      "cell_type": "code",
      "metadata": {
        "colab": {
          "base_uri": "https://localhost:8080/",
          "height": 195
        },
        "id": "PCE_CgO9ASZ_",
        "outputId": "86141a10-a50a-4550-bfc4-9054dd7985a5"
      },
      "source": [
        "future_global.tail()"
      ],
      "execution_count": null,
      "outputs": [
        {
          "output_type": "execute_result",
          "data": {
            "text/html": [
              "<div>\n",
              "<style scoped>\n",
              "    .dataframe tbody tr th:only-of-type {\n",
              "        vertical-align: middle;\n",
              "    }\n",
              "\n",
              "    .dataframe tbody tr th {\n",
              "        vertical-align: top;\n",
              "    }\n",
              "\n",
              "    .dataframe thead th {\n",
              "        text-align: right;\n",
              "    }\n",
              "</style>\n",
              "<table border=\"1\" class=\"dataframe\">\n",
              "  <thead>\n",
              "    <tr style=\"text-align: right;\">\n",
              "      <th></th>\n",
              "      <th>ds</th>\n",
              "    </tr>\n",
              "  </thead>\n",
              "  <tbody>\n",
              "    <tr>\n",
              "      <th>213</th>\n",
              "      <td>2020-08-22</td>\n",
              "    </tr>\n",
              "    <tr>\n",
              "      <th>214</th>\n",
              "      <td>2020-08-23</td>\n",
              "    </tr>\n",
              "    <tr>\n",
              "      <th>215</th>\n",
              "      <td>2020-08-24</td>\n",
              "    </tr>\n",
              "    <tr>\n",
              "      <th>216</th>\n",
              "      <td>2020-08-25</td>\n",
              "    </tr>\n",
              "    <tr>\n",
              "      <th>217</th>\n",
              "      <td>2020-08-26</td>\n",
              "    </tr>\n",
              "  </tbody>\n",
              "</table>\n",
              "</div>"
            ],
            "text/plain": [
              "            ds\n",
              "213 2020-08-22\n",
              "214 2020-08-23\n",
              "215 2020-08-24\n",
              "216 2020-08-25\n",
              "217 2020-08-26"
            ]
          },
          "metadata": {
            "tags": []
          },
          "execution_count": 36
        }
      ]
    },
    {
      "cell_type": "code",
      "metadata": {
        "colab": {
          "base_uri": "https://localhost:8080/",
          "height": 590
        },
        "id": "LKOJgvpLASZ_",
        "outputId": "8de329e1-6e9f-41e5-8f61-4fd5c2c8cbb7"
      },
      "source": [
        "### now do Prediction on future_global\n",
        "prediction=model.predict(future_global)\n",
        "prediction"
      ],
      "execution_count": null,
      "outputs": [
        {
          "output_type": "execute_result",
          "data": {
            "text/html": [
              "<div>\n",
              "<style scoped>\n",
              "    .dataframe tbody tr th:only-of-type {\n",
              "        vertical-align: middle;\n",
              "    }\n",
              "\n",
              "    .dataframe tbody tr th {\n",
              "        vertical-align: top;\n",
              "    }\n",
              "\n",
              "    .dataframe thead th {\n",
              "        text-align: right;\n",
              "    }\n",
              "</style>\n",
              "<table border=\"1\" class=\"dataframe\">\n",
              "  <thead>\n",
              "    <tr style=\"text-align: right;\">\n",
              "      <th></th>\n",
              "      <th>ds</th>\n",
              "      <th>trend</th>\n",
              "      <th>yhat_lower</th>\n",
              "      <th>yhat_upper</th>\n",
              "      <th>trend_lower</th>\n",
              "      <th>trend_upper</th>\n",
              "      <th>additive_terms</th>\n",
              "      <th>additive_terms_lower</th>\n",
              "      <th>additive_terms_upper</th>\n",
              "      <th>daily</th>\n",
              "      <th>daily_lower</th>\n",
              "      <th>daily_upper</th>\n",
              "      <th>weekly</th>\n",
              "      <th>weekly_lower</th>\n",
              "      <th>weekly_upper</th>\n",
              "      <th>yearly</th>\n",
              "      <th>yearly_lower</th>\n",
              "      <th>yearly_upper</th>\n",
              "      <th>multiplicative_terms</th>\n",
              "      <th>multiplicative_terms_lower</th>\n",
              "      <th>multiplicative_terms_upper</th>\n",
              "      <th>yhat</th>\n",
              "    </tr>\n",
              "  </thead>\n",
              "  <tbody>\n",
              "    <tr>\n",
              "      <th>0</th>\n",
              "      <td>2020-01-22</td>\n",
              "      <td>-6.632025e+05</td>\n",
              "      <td>-1.769075e+04</td>\n",
              "      <td>5.508184e+03</td>\n",
              "      <td>-6.632025e+05</td>\n",
              "      <td>-6.632025e+05</td>\n",
              "      <td>6.577998e+05</td>\n",
              "      <td>6.577998e+05</td>\n",
              "      <td>6.577998e+05</td>\n",
              "      <td>-2.658267e+06</td>\n",
              "      <td>-2.658267e+06</td>\n",
              "      <td>-2.658267e+06</td>\n",
              "      <td>-6598.986536</td>\n",
              "      <td>-6598.986536</td>\n",
              "      <td>-6598.986536</td>\n",
              "      <td>3.322666e+06</td>\n",
              "      <td>3.322666e+06</td>\n",
              "      <td>3.322666e+06</td>\n",
              "      <td>0.0</td>\n",
              "      <td>0.0</td>\n",
              "      <td>0.0</td>\n",
              "      <td>-5.402686e+03</td>\n",
              "    </tr>\n",
              "    <tr>\n",
              "      <th>1</th>\n",
              "      <td>2020-01-23</td>\n",
              "      <td>-5.790479e+05</td>\n",
              "      <td>-9.762946e+03</td>\n",
              "      <td>1.296022e+04</td>\n",
              "      <td>-5.790479e+05</td>\n",
              "      <td>-5.790479e+05</td>\n",
              "      <td>5.804456e+05</td>\n",
              "      <td>5.804456e+05</td>\n",
              "      <td>5.804456e+05</td>\n",
              "      <td>-2.658267e+06</td>\n",
              "      <td>-2.658267e+06</td>\n",
              "      <td>-2.658267e+06</td>\n",
              "      <td>1052.069131</td>\n",
              "      <td>1052.069131</td>\n",
              "      <td>1052.069131</td>\n",
              "      <td>3.237661e+06</td>\n",
              "      <td>3.237661e+06</td>\n",
              "      <td>3.237661e+06</td>\n",
              "      <td>0.0</td>\n",
              "      <td>0.0</td>\n",
              "      <td>0.0</td>\n",
              "      <td>1.397692e+03</td>\n",
              "    </tr>\n",
              "    <tr>\n",
              "      <th>2</th>\n",
              "      <td>2020-01-24</td>\n",
              "      <td>-4.948933e+05</td>\n",
              "      <td>-2.603031e+03</td>\n",
              "      <td>2.008124e+04</td>\n",
              "      <td>-4.948933e+05</td>\n",
              "      <td>-4.948933e+05</td>\n",
              "      <td>5.034426e+05</td>\n",
              "      <td>5.034426e+05</td>\n",
              "      <td>5.034426e+05</td>\n",
              "      <td>-2.658267e+06</td>\n",
              "      <td>-2.658267e+06</td>\n",
              "      <td>-2.658267e+06</td>\n",
              "      <td>8923.585424</td>\n",
              "      <td>8923.585424</td>\n",
              "      <td>8923.585424</td>\n",
              "      <td>3.152786e+06</td>\n",
              "      <td>3.152786e+06</td>\n",
              "      <td>3.152786e+06</td>\n",
              "      <td>0.0</td>\n",
              "      <td>0.0</td>\n",
              "      <td>0.0</td>\n",
              "      <td>8.549330e+03</td>\n",
              "    </tr>\n",
              "    <tr>\n",
              "      <th>3</th>\n",
              "      <td>2020-01-25</td>\n",
              "      <td>-4.107387e+05</td>\n",
              "      <td>1.478308e+02</td>\n",
              "      <td>2.324234e+04</td>\n",
              "      <td>-4.107387e+05</td>\n",
              "      <td>-4.107387e+05</td>\n",
              "      <td>4.218376e+05</td>\n",
              "      <td>4.218376e+05</td>\n",
              "      <td>4.218376e+05</td>\n",
              "      <td>-2.658267e+06</td>\n",
              "      <td>-2.658267e+06</td>\n",
              "      <td>-2.658267e+06</td>\n",
              "      <td>11563.705373</td>\n",
              "      <td>11563.705373</td>\n",
              "      <td>11563.705373</td>\n",
              "      <td>3.068541e+06</td>\n",
              "      <td>3.068541e+06</td>\n",
              "      <td>3.068541e+06</td>\n",
              "      <td>0.0</td>\n",
              "      <td>0.0</td>\n",
              "      <td>0.0</td>\n",
              "      <td>1.109890e+04</td>\n",
              "    </tr>\n",
              "    <tr>\n",
              "      <th>4</th>\n",
              "      <td>2020-01-26</td>\n",
              "      <td>-3.265841e+05</td>\n",
              "      <td>-7.382512e+03</td>\n",
              "      <td>1.490967e+04</td>\n",
              "      <td>-3.265841e+05</td>\n",
              "      <td>-3.265841e+05</td>\n",
              "      <td>3.303953e+05</td>\n",
              "      <td>3.303953e+05</td>\n",
              "      <td>3.303953e+05</td>\n",
              "      <td>-2.658267e+06</td>\n",
              "      <td>-2.658267e+06</td>\n",
              "      <td>-2.658267e+06</td>\n",
              "      <td>3397.461922</td>\n",
              "      <td>3397.461922</td>\n",
              "      <td>3397.461922</td>\n",
              "      <td>2.985265e+06</td>\n",
              "      <td>2.985265e+06</td>\n",
              "      <td>2.985265e+06</td>\n",
              "      <td>0.0</td>\n",
              "      <td>0.0</td>\n",
              "      <td>0.0</td>\n",
              "      <td>3.811202e+03</td>\n",
              "    </tr>\n",
              "    <tr>\n",
              "      <th>...</th>\n",
              "      <td>...</td>\n",
              "      <td>...</td>\n",
              "      <td>...</td>\n",
              "      <td>...</td>\n",
              "      <td>...</td>\n",
              "      <td>...</td>\n",
              "      <td>...</td>\n",
              "      <td>...</td>\n",
              "      <td>...</td>\n",
              "      <td>...</td>\n",
              "      <td>...</td>\n",
              "      <td>...</td>\n",
              "      <td>...</td>\n",
              "      <td>...</td>\n",
              "      <td>...</td>\n",
              "      <td>...</td>\n",
              "      <td>...</td>\n",
              "      <td>...</td>\n",
              "      <td>...</td>\n",
              "      <td>...</td>\n",
              "      <td>...</td>\n",
              "      <td>...</td>\n",
              "    </tr>\n",
              "    <tr>\n",
              "      <th>213</th>\n",
              "      <td>2020-08-22</td>\n",
              "      <td>1.767950e+07</td>\n",
              "      <td>1.316994e+07</td>\n",
              "      <td>1.329888e+07</td>\n",
              "      <td>1.761012e+07</td>\n",
              "      <td>1.774071e+07</td>\n",
              "      <td>-4.441315e+06</td>\n",
              "      <td>-4.441315e+06</td>\n",
              "      <td>-4.441315e+06</td>\n",
              "      <td>-2.658267e+06</td>\n",
              "      <td>-2.658267e+06</td>\n",
              "      <td>-2.658267e+06</td>\n",
              "      <td>11563.705373</td>\n",
              "      <td>11563.705373</td>\n",
              "      <td>11563.705373</td>\n",
              "      <td>-1.794611e+06</td>\n",
              "      <td>-1.794611e+06</td>\n",
              "      <td>-1.794611e+06</td>\n",
              "      <td>0.0</td>\n",
              "      <td>0.0</td>\n",
              "      <td>0.0</td>\n",
              "      <td>1.323818e+07</td>\n",
              "    </tr>\n",
              "    <tr>\n",
              "      <th>214</th>\n",
              "      <td>2020-08-23</td>\n",
              "      <td>1.776681e+07</td>\n",
              "      <td>1.254658e+07</td>\n",
              "      <td>1.268838e+07</td>\n",
              "      <td>1.769254e+07</td>\n",
              "      <td>1.783295e+07</td>\n",
              "      <td>-5.146193e+06</td>\n",
              "      <td>-5.146193e+06</td>\n",
              "      <td>-5.146193e+06</td>\n",
              "      <td>-2.658267e+06</td>\n",
              "      <td>-2.658267e+06</td>\n",
              "      <td>-2.658267e+06</td>\n",
              "      <td>3397.461922</td>\n",
              "      <td>3397.461922</td>\n",
              "      <td>3397.461922</td>\n",
              "      <td>-2.491323e+06</td>\n",
              "      <td>-2.491323e+06</td>\n",
              "      <td>-2.491323e+06</td>\n",
              "      <td>0.0</td>\n",
              "      <td>0.0</td>\n",
              "      <td>0.0</td>\n",
              "      <td>1.262061e+07</td>\n",
              "    </tr>\n",
              "    <tr>\n",
              "      <th>215</th>\n",
              "      <td>2020-08-24</td>\n",
              "      <td>1.785412e+07</td>\n",
              "      <td>1.191691e+07</td>\n",
              "      <td>1.207013e+07</td>\n",
              "      <td>1.777481e+07</td>\n",
              "      <td>1.792513e+07</td>\n",
              "      <td>-5.857683e+06</td>\n",
              "      <td>-5.857683e+06</td>\n",
              "      <td>-5.857683e+06</td>\n",
              "      <td>-2.658267e+06</td>\n",
              "      <td>-2.658267e+06</td>\n",
              "      <td>-2.658267e+06</td>\n",
              "      <td>-8281.348474</td>\n",
              "      <td>-8281.348474</td>\n",
              "      <td>-8281.348474</td>\n",
              "      <td>-3.191135e+06</td>\n",
              "      <td>-3.191135e+06</td>\n",
              "      <td>-3.191135e+06</td>\n",
              "      <td>0.0</td>\n",
              "      <td>0.0</td>\n",
              "      <td>0.0</td>\n",
              "      <td>1.199643e+07</td>\n",
              "    </tr>\n",
              "    <tr>\n",
              "      <th>216</th>\n",
              "      <td>2020-08-25</td>\n",
              "      <td>1.794143e+07</td>\n",
              "      <td>1.130430e+07</td>\n",
              "      <td>1.146296e+07</td>\n",
              "      <td>1.785929e+07</td>\n",
              "      <td>1.801610e+07</td>\n",
              "      <td>-6.553639e+06</td>\n",
              "      <td>-6.553639e+06</td>\n",
              "      <td>-6.553639e+06</td>\n",
              "      <td>-2.658267e+06</td>\n",
              "      <td>-2.658267e+06</td>\n",
              "      <td>-2.658267e+06</td>\n",
              "      <td>-10056.486838</td>\n",
              "      <td>-10056.486838</td>\n",
              "      <td>-10056.486838</td>\n",
              "      <td>-3.885315e+06</td>\n",
              "      <td>-3.885315e+06</td>\n",
              "      <td>-3.885315e+06</td>\n",
              "      <td>0.0</td>\n",
              "      <td>0.0</td>\n",
              "      <td>0.0</td>\n",
              "      <td>1.138779e+07</td>\n",
              "    </tr>\n",
              "    <tr>\n",
              "      <th>217</th>\n",
              "      <td>2020-08-26</td>\n",
              "      <td>1.802874e+07</td>\n",
              "      <td>1.071181e+07</td>\n",
              "      <td>1.087892e+07</td>\n",
              "      <td>1.794227e+07</td>\n",
              "      <td>1.810635e+07</td>\n",
              "      <td>-7.229602e+06</td>\n",
              "      <td>-7.229602e+06</td>\n",
              "      <td>-7.229602e+06</td>\n",
              "      <td>-2.658267e+06</td>\n",
              "      <td>-2.658267e+06</td>\n",
              "      <td>-2.658267e+06</td>\n",
              "      <td>-6598.986536</td>\n",
              "      <td>-6598.986536</td>\n",
              "      <td>-6598.986536</td>\n",
              "      <td>-4.564736e+06</td>\n",
              "      <td>-4.564736e+06</td>\n",
              "      <td>-4.564736e+06</td>\n",
              "      <td>0.0</td>\n",
              "      <td>0.0</td>\n",
              "      <td>0.0</td>\n",
              "      <td>1.079914e+07</td>\n",
              "    </tr>\n",
              "  </tbody>\n",
              "</table>\n",
              "<p>218 rows × 22 columns</p>\n",
              "</div>"
            ],
            "text/plain": [
              "            ds         trend  ...  multiplicative_terms_upper          yhat\n",
              "0   2020-01-22 -6.632025e+05  ...                         0.0 -5.402686e+03\n",
              "1   2020-01-23 -5.790479e+05  ...                         0.0  1.397692e+03\n",
              "2   2020-01-24 -4.948933e+05  ...                         0.0  8.549330e+03\n",
              "3   2020-01-25 -4.107387e+05  ...                         0.0  1.109890e+04\n",
              "4   2020-01-26 -3.265841e+05  ...                         0.0  3.811202e+03\n",
              "..         ...           ...  ...                         ...           ...\n",
              "213 2020-08-22  1.767950e+07  ...                         0.0  1.323818e+07\n",
              "214 2020-08-23  1.776681e+07  ...                         0.0  1.262061e+07\n",
              "215 2020-08-24  1.785412e+07  ...                         0.0  1.199643e+07\n",
              "216 2020-08-25  1.794143e+07  ...                         0.0  1.138779e+07\n",
              "217 2020-08-26  1.802874e+07  ...                         0.0  1.079914e+07\n",
              "\n",
              "[218 rows x 22 columns]"
            ]
          },
          "metadata": {
            "tags": []
          },
          "execution_count": 37
        }
      ]
    },
    {
      "cell_type": "code",
      "metadata": {
        "colab": {
          "base_uri": "https://localhost:8080/",
          "height": 195
        },
        "id": "dl0oQqBLASaA",
        "outputId": "a5aee2f3-43bb-40a6-c592-8a8f32ca523b"
      },
      "source": [
        "prediction[['ds','yhat','yhat_lower','yhat_upper']].tail()"
      ],
      "execution_count": null,
      "outputs": [
        {
          "output_type": "execute_result",
          "data": {
            "text/html": [
              "<div>\n",
              "<style scoped>\n",
              "    .dataframe tbody tr th:only-of-type {\n",
              "        vertical-align: middle;\n",
              "    }\n",
              "\n",
              "    .dataframe tbody tr th {\n",
              "        vertical-align: top;\n",
              "    }\n",
              "\n",
              "    .dataframe thead th {\n",
              "        text-align: right;\n",
              "    }\n",
              "</style>\n",
              "<table border=\"1\" class=\"dataframe\">\n",
              "  <thead>\n",
              "    <tr style=\"text-align: right;\">\n",
              "      <th></th>\n",
              "      <th>ds</th>\n",
              "      <th>yhat</th>\n",
              "      <th>yhat_lower</th>\n",
              "      <th>yhat_upper</th>\n",
              "    </tr>\n",
              "  </thead>\n",
              "  <tbody>\n",
              "    <tr>\n",
              "      <th>213</th>\n",
              "      <td>2020-08-22</td>\n",
              "      <td>1.323818e+07</td>\n",
              "      <td>1.316994e+07</td>\n",
              "      <td>1.329888e+07</td>\n",
              "    </tr>\n",
              "    <tr>\n",
              "      <th>214</th>\n",
              "      <td>2020-08-23</td>\n",
              "      <td>1.262061e+07</td>\n",
              "      <td>1.254658e+07</td>\n",
              "      <td>1.268838e+07</td>\n",
              "    </tr>\n",
              "    <tr>\n",
              "      <th>215</th>\n",
              "      <td>2020-08-24</td>\n",
              "      <td>1.199643e+07</td>\n",
              "      <td>1.191691e+07</td>\n",
              "      <td>1.207013e+07</td>\n",
              "    </tr>\n",
              "    <tr>\n",
              "      <th>216</th>\n",
              "      <td>2020-08-25</td>\n",
              "      <td>1.138779e+07</td>\n",
              "      <td>1.130430e+07</td>\n",
              "      <td>1.146296e+07</td>\n",
              "    </tr>\n",
              "    <tr>\n",
              "      <th>217</th>\n",
              "      <td>2020-08-26</td>\n",
              "      <td>1.079914e+07</td>\n",
              "      <td>1.071181e+07</td>\n",
              "      <td>1.087892e+07</td>\n",
              "    </tr>\n",
              "  </tbody>\n",
              "</table>\n",
              "</div>"
            ],
            "text/plain": [
              "            ds          yhat    yhat_lower    yhat_upper\n",
              "213 2020-08-22  1.323818e+07  1.316994e+07  1.329888e+07\n",
              "214 2020-08-23  1.262061e+07  1.254658e+07  1.268838e+07\n",
              "215 2020-08-24  1.199643e+07  1.191691e+07  1.207013e+07\n",
              "216 2020-08-25  1.138779e+07  1.130430e+07  1.146296e+07\n",
              "217 2020-08-26  1.079914e+07  1.071181e+07  1.087892e+07"
            ]
          },
          "metadata": {
            "tags": []
          },
          "execution_count": 38
        }
      ]
    },
    {
      "cell_type": "code",
      "metadata": {
        "colab": {
          "base_uri": "https://localhost:8080/",
          "height": 865
        },
        "id": "S4Bbs3beASaA",
        "outputId": "8196d77b-b435-4406-9fbc-ed95aa70a314"
      },
      "source": [
        "#### plot the predictions u will see these are with respect to yhat\n",
        "model.plot(prediction)"
      ],
      "execution_count": null,
      "outputs": [
        {
          "output_type": "execute_result",
          "data": {
            "image/png": "[encoded data removed]",
            "text/plain": [
              "<Figure size 720x432 with 1 Axes>"
            ]
          },
          "metadata": {
            "tags": []
          },
          "execution_count": 39
        },
        {
          "output_type": "display_data",
          "data": {
            "image/png": "[encoded data removed]",
            "text/plain": [
              "<Figure size 720x432 with 1 Axes>"
            ]
          },
          "metadata": {
            "tags": []
          }
        }
      ]
    },
    {
      "cell_type": "code",
      "metadata": {
        "colab": {
          "base_uri": "https://localhost:8080/",
          "height": 1000
        },
        "id": "ifb4bQTEASaB",
        "outputId": "807063a6-5bfa-4eb9-f8ad-7ea2025e3091"
      },
      "source": [
        "##### Visualize Each Components[Trends,Weekly]\n",
        "model.plot_components(prediction)"
      ],
      "execution_count": null,
      "outputs": [
        {
          "output_type": "execute_result",
          "data": {
            "image/png": "[encoded data removed]",
            "text/plain": [
              "<Figure size 648x864 with 4 Axes>"
            ]
          },
          "metadata": {
            "tags": []
          },
          "execution_count": 40
        },
        {
          "output_type": "display_data",
          "data": {
            "image/png": "[encoded data removed]",
            "text/plain": [
              "<Figure size 648x864 with 4 Axes>"
            ]
          },
          "metadata": {
            "tags": []
          }
        }
      ]
    },
    {
      "cell_type": "code",
      "metadata": {
        "id": "ilBLD_kgASaB"
      },
      "source": [
        "#### The prophet model identifies points at which the trend changes and those can be plotted.¶\n",
        "from fbprophet.plot import add_changepoints_to_plot"
      ],
      "execution_count": null,
      "outputs": []
    },
    {
      "cell_type": "code",
      "metadata": {
        "colab": {
          "base_uri": "https://localhost:8080/",
          "height": 441
        },
        "id": "0bmo3qkDASaB",
        "outputId": "ce52dd55-33ae-470c-fa61-4bd5dde29023"
      },
      "source": [
        "fig=model.plot(prediction)\n",
        "\n",
        "a=add_changepoints_to_plot(fig.gca(),model,prediction)"
      ],
      "execution_count": null,
      "outputs": [
        {
          "output_type": "display_data",
          "data": {
            "image/png": "[encoded data removed]",
            "text/plain": [
              "<Figure size 720x432 with 1 Axes>"
            ]
          },
          "metadata": {
            "tags": []
          }
        }
      ]
    },
    {
      "cell_type": "code",
      "metadata": {
        "id": "WyURWGM1ASaC"
      },
      "source": [
        "from fbprophet.diagnostics import cross_validation"
      ],
      "execution_count": null,
      "outputs": []
    },
    {
      "cell_type": "code",
      "metadata": {
        "colab": {
          "base_uri": "https://localhost:8080/",
          "height": 99,
          "referenced_widgets": [
            "0e5b53db899f46cb89deeb9602c22fb2",
            "9e2fad5ada1d4ee9ac00aa48d523eb02",
            "4bcb28eeeaea40dfb4fc14faa04c889f",
            "55822df77ae54281b5856924031f2b0a",
            "fdcf0965d0c14183a7af1ff0abf359e1",
            "040c2e113f3443898bc3885a70cc4711",
            "7fa695aff89d497ea04293c7506b90b7",
            "a805940b748a43d687dc0a23b7f1c184"
          ]
        },
        "id": "5rOUn31nASaC",
        "outputId": "d9a0c527-4fff-44d9-8bce-eab96089e540"
      },
      "source": [
        "df_cv=cross_validation(model,horizon='30 days',period='15 days',initial='90 days')\n",
        "## horizon='365 days'--> for how many days we have to cross validate=====\n",
        "\n",
        "## Computes forecasts from historical cutoff points Beginning from..\n",
        "\n",
        "## (end - horizon) it means it is going to take that date that is (end - horizon) bcz on these date we have to just\n",
        "## cross-validate for the new dataset that we have to find out\n",
        "\n",
        "## period=180 as from documentation of func as period=0.5*365=180 or {period=1/2*horizon value}\n",
        "## initial -How many total no. of days we actually want-- 3*365 from documentation of function or  {initial=3*horizon}"
      ],
      "execution_count": null,
      "outputs": [
        {
          "output_type": "stream",
          "text": [
            "INFO:fbprophet:Making 5 forecasts with cutoffs between 2020-04-28 00:00:00 and 2020-06-27 00:00:00\n",
            "WARNING:fbprophet:Seasonality has period of 365.25 days which is larger than initial window. Consider increasing initial.\n"
          ],
          "name": "stderr"
        },
        {
          "output_type": "display_data",
          "data": {
            "application/vnd.jupyter.widget-view+json": {
              "model_id": "0e5b53db899f46cb89deeb9602c22fb2",
              "version_minor": 0,
              "version_major": 2
            },
            "text/plain": [
              "HBox(children=(FloatProgress(value=0.0, max=5.0), HTML(value='')))"
            ]
          },
          "metadata": {
            "tags": []
          }
        },
        {
          "output_type": "stream",
          "text": [
            "\n"
          ],
          "name": "stdout"
        }
      ]
    },
    {
      "cell_type": "code",
      "metadata": {
        "colab": {
          "base_uri": "https://localhost:8080/",
          "height": 195
        },
        "id": "8VfAhy1iASaC",
        "outputId": "5d112663-69df-4054-e1a4-d8988de1b724"
      },
      "source": [
        "df_cv.head()"
      ],
      "execution_count": null,
      "outputs": [
        {
          "output_type": "execute_result",
          "data": {
            "text/html": [
              "<div>\n",
              "<style scoped>\n",
              "    .dataframe tbody tr th:only-of-type {\n",
              "        vertical-align: middle;\n",
              "    }\n",
              "\n",
              "    .dataframe tbody tr th {\n",
              "        vertical-align: top;\n",
              "    }\n",
              "\n",
              "    .dataframe thead th {\n",
              "        text-align: right;\n",
              "    }\n",
              "</style>\n",
              "<table border=\"1\" class=\"dataframe\">\n",
              "  <thead>\n",
              "    <tr style=\"text-align: right;\">\n",
              "      <th></th>\n",
              "      <th>ds</th>\n",
              "      <th>yhat</th>\n",
              "      <th>yhat_lower</th>\n",
              "      <th>yhat_upper</th>\n",
              "      <th>y</th>\n",
              "      <th>cutoff</th>\n",
              "    </tr>\n",
              "  </thead>\n",
              "  <tbody>\n",
              "    <tr>\n",
              "      <th>0</th>\n",
              "      <td>2020-04-29</td>\n",
              "      <td>3.180573e+06</td>\n",
              "      <td>3.176463e+06</td>\n",
              "      <td>3.184844e+06</td>\n",
              "      <td>3185195</td>\n",
              "      <td>2020-04-28</td>\n",
              "    </tr>\n",
              "    <tr>\n",
              "      <th>1</th>\n",
              "      <td>2020-04-30</td>\n",
              "      <td>3.253741e+06</td>\n",
              "      <td>3.249592e+06</td>\n",
              "      <td>3.257822e+06</td>\n",
              "      <td>3268876</td>\n",
              "      <td>2020-04-28</td>\n",
              "    </tr>\n",
              "    <tr>\n",
              "      <th>2</th>\n",
              "      <td>2020-05-01</td>\n",
              "      <td>3.322668e+06</td>\n",
              "      <td>3.318113e+06</td>\n",
              "      <td>3.327013e+06</td>\n",
              "      <td>3355922</td>\n",
              "      <td>2020-04-28</td>\n",
              "    </tr>\n",
              "    <tr>\n",
              "      <th>3</th>\n",
              "      <td>2020-05-02</td>\n",
              "      <td>3.384776e+06</td>\n",
              "      <td>3.379953e+06</td>\n",
              "      <td>3.389192e+06</td>\n",
              "      <td>3437608</td>\n",
              "      <td>2020-04-28</td>\n",
              "    </tr>\n",
              "    <tr>\n",
              "      <th>4</th>\n",
              "      <td>2020-05-03</td>\n",
              "      <td>3.442155e+06</td>\n",
              "      <td>3.436753e+06</td>\n",
              "      <td>3.447013e+06</td>\n",
              "      <td>3515244</td>\n",
              "      <td>2020-04-28</td>\n",
              "    </tr>\n",
              "  </tbody>\n",
              "</table>\n",
              "</div>"
            ],
            "text/plain": [
              "          ds          yhat    yhat_lower    yhat_upper        y     cutoff\n",
              "0 2020-04-29  3.180573e+06  3.176463e+06  3.184844e+06  3185195 2020-04-28\n",
              "1 2020-04-30  3.253741e+06  3.249592e+06  3.257822e+06  3268876 2020-04-28\n",
              "2 2020-05-01  3.322668e+06  3.318113e+06  3.327013e+06  3355922 2020-04-28\n",
              "3 2020-05-02  3.384776e+06  3.379953e+06  3.389192e+06  3437608 2020-04-28\n",
              "4 2020-05-03  3.442155e+06  3.436753e+06  3.447013e+06  3515244 2020-04-28"
            ]
          },
          "metadata": {
            "tags": []
          },
          "execution_count": 45
        }
      ]
    },
    {
      "cell_type": "code",
      "metadata": {
        "colab": {
          "base_uri": "https://localhost:8080/"
        },
        "id": "aex-y8vDASaD",
        "outputId": "1a70ce98-d2fe-4684-c904-1475fcc92734"
      },
      "source": [
        "df_cv.shape"
      ],
      "execution_count": null,
      "outputs": [
        {
          "output_type": "execute_result",
          "data": {
            "text/plain": [
              "(150, 6)"
            ]
          },
          "metadata": {
            "tags": []
          },
          "execution_count": 46
        }
      ]
    },
    {
      "cell_type": "markdown",
      "metadata": {
        "id": "R4vvjQzPASaD"
      },
      "source": [
        "#### Obtaining the Performance Metrics\n",
        "    We use the performance_metrics utility to compute the Mean Squared Error(MSE), Root Mean Squared Error(RMSE),Mean Absolute Error(MAE), Mean Absolute Percentage Error(MAPE) and the coverage of the the yhat_lower and yhat_upper estimates.\n"
      ]
    },
    {
      "cell_type": "code",
      "metadata": {
        "id": "LV7Hb6sSASaD"
      },
      "source": [
        "from fbprophet.diagnostics import performance_metrics"
      ],
      "execution_count": null,
      "outputs": []
    },
    {
      "cell_type": "code",
      "metadata": {
        "colab": {
          "base_uri": "https://localhost:8080/",
          "height": 195
        },
        "id": "x2X4gWeWASaE",
        "outputId": "4ad5c13d-0f0f-4233-b183-5d3d02276c9b"
      },
      "source": [
        "df_performance=performance_metrics(df_cv)\n",
        "df_performance.head()"
      ],
      "execution_count": null,
      "outputs": [
        {
          "output_type": "execute_result",
          "data": {
            "text/html": [
              "<div>\n",
              "<style scoped>\n",
              "    .dataframe tbody tr th:only-of-type {\n",
              "        vertical-align: middle;\n",
              "    }\n",
              "\n",
              "    .dataframe tbody tr th {\n",
              "        vertical-align: top;\n",
              "    }\n",
              "\n",
              "    .dataframe thead th {\n",
              "        text-align: right;\n",
              "    }\n",
              "</style>\n",
              "<table border=\"1\" class=\"dataframe\">\n",
              "  <thead>\n",
              "    <tr style=\"text-align: right;\">\n",
              "      <th></th>\n",
              "      <th>horizon</th>\n",
              "      <th>mse</th>\n",
              "      <th>rmse</th>\n",
              "      <th>mae</th>\n",
              "      <th>mape</th>\n",
              "      <th>mdape</th>\n",
              "      <th>coverage</th>\n",
              "    </tr>\n",
              "  </thead>\n",
              "  <tbody>\n",
              "    <tr>\n",
              "      <th>0</th>\n",
              "      <td>3 days</td>\n",
              "      <td>2.053921e+09</td>\n",
              "      <td>45320.207202</td>\n",
              "      <td>35985.526753</td>\n",
              "      <td>0.006067</td>\n",
              "      <td>0.004630</td>\n",
              "      <td>0.0</td>\n",
              "    </tr>\n",
              "    <tr>\n",
              "      <th>1</th>\n",
              "      <td>4 days</td>\n",
              "      <td>3.718658e+09</td>\n",
              "      <td>60980.796159</td>\n",
              "      <td>51807.187823</td>\n",
              "      <td>0.008959</td>\n",
              "      <td>0.006297</td>\n",
              "      <td>0.0</td>\n",
              "    </tr>\n",
              "    <tr>\n",
              "      <th>2</th>\n",
              "      <td>5 days</td>\n",
              "      <td>6.528630e+09</td>\n",
              "      <td>80799.939672</td>\n",
              "      <td>67866.334668</td>\n",
              "      <td>0.011986</td>\n",
              "      <td>0.010393</td>\n",
              "      <td>0.0</td>\n",
              "    </tr>\n",
              "    <tr>\n",
              "      <th>3</th>\n",
              "      <td>6 days</td>\n",
              "      <td>1.136875e+10</td>\n",
              "      <td>106624.317175</td>\n",
              "      <td>87360.691703</td>\n",
              "      <td>0.015567</td>\n",
              "      <td>0.015369</td>\n",
              "      <td>0.0</td>\n",
              "    </tr>\n",
              "    <tr>\n",
              "      <th>4</th>\n",
              "      <td>7 days</td>\n",
              "      <td>2.062456e+10</td>\n",
              "      <td>143612.527529</td>\n",
              "      <td>117876.111294</td>\n",
              "      <td>0.020688</td>\n",
              "      <td>0.020792</td>\n",
              "      <td>0.0</td>\n",
              "    </tr>\n",
              "  </tbody>\n",
              "</table>\n",
              "</div>"
            ],
            "text/plain": [
              "  horizon           mse           rmse  ...      mape     mdape  coverage\n",
              "0  3 days  2.053921e+09   45320.207202  ...  0.006067  0.004630       0.0\n",
              "1  4 days  3.718658e+09   60980.796159  ...  0.008959  0.006297       0.0\n",
              "2  5 days  6.528630e+09   80799.939672  ...  0.011986  0.010393       0.0\n",
              "3  6 days  1.136875e+10  106624.317175  ...  0.015567  0.015369       0.0\n",
              "4  7 days  2.062456e+10  143612.527529  ...  0.020688  0.020792       0.0\n",
              "\n",
              "[5 rows x 7 columns]"
            ]
          },
          "metadata": {
            "tags": []
          },
          "execution_count": 48
        }
      ]
    },
    {
      "cell_type": "code",
      "metadata": {
        "id": "bcrtAL8qASaE"
      },
      "source": [],
      "execution_count": null,
      "outputs": []
    },
    {
      "cell_type": "code",
      "metadata": {
        "id": "sruwGs-RASaE"
      },
      "source": [
        "from fbprophet.plot import plot_cross_validation_metric"
      ],
      "execution_count": null,
      "outputs": []
    },
    {
      "cell_type": "code",
      "metadata": {
        "colab": {
          "base_uri": "https://localhost:8080/",
          "height": 399
        },
        "id": "C3XXpPWpASaF",
        "outputId": "4338502d-ef96-41e6-dd93-43420eb0f8ad"
      },
      "source": [
        "df_performance=plot_cross_validation_metric(df_cv,metric='rmse')"
      ],
      "execution_count": null,
      "outputs": [
        {
          "output_type": "display_data",
          "data": {
            "image/png": "[encoded data removed]",
            "text/plain": [
              "<Figure size 720x432 with 1 Axes>"
            ]
          },
          "metadata": {
            "tags": []
          }
        }
      ]
    },
    {
      "cell_type": "code",
      "metadata": {
        "colab": {
          "base_uri": "https://localhost:8080/",
          "height": 399
        },
        "id": "sNrRt5H5ASaF",
        "outputId": "4dabfb56-d8e3-4727-f2ac-34a0687329d3"
      },
      "source": [
        "df_performance=plot_cross_validation_metric(df_cv,metric='mse')"
      ],
      "execution_count": null,
      "outputs": [
        {
          "output_type": "display_data",
          "data": {
            "image/png": "[encoded data removed]",
            "text/plain": [
              "<Figure size 720x432 with 1 Axes>"
            ]
          },
          "metadata": {
            "tags": []
          }
        }
      ]
    },
    {
      "cell_type": "code",
      "metadata": {
        "colab": {
          "base_uri": "https://localhost:8080/",
          "height": 390
        },
        "id": "azbclsb1ASaF",
        "outputId": "989e709a-c5ce-4fa4-d65e-dfc6614b3ff1"
      },
      "source": [
        "df_performance=plot_cross_validation_metric(df_cv,metric='mape')"
      ],
      "execution_count": null,
      "outputs": [
        {
          "output_type": "display_data",
          "data": {
            "image/png": "[encoded data removed]",
            "text/plain": [
              "<Figure size 720x432 with 1 Axes>"
            ]
          },
          "metadata": {
            "tags": []
          }
        }
      ]
    }
  ]
}